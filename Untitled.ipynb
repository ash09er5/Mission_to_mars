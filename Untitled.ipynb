{
 "cells": [
  {
   "cell_type": "code",
   "execution_count": 1,
   "id": "ed1daebb",
   "metadata": {},
   "outputs": [],
   "source": [
    "import requests\n",
    "from bs4 import BeautifulSoup\n",
    "import os\n"
   ]
  },
  {
   "cell_type": "code",
   "execution_count": 3,
   "id": "f5964186",
   "metadata": {},
   "outputs": [],
   "source": [
    "url='https://astrogeology.usgs.gov/search/results?q=hemisphere+enhanced&k1=target&v1=Mars'"
   ]
  },
  {
   "cell_type": "code",
   "execution_count": 4,
   "id": "3362ab0f",
   "metadata": {},
   "outputs": [],
   "source": [
    "r=requests.get(url)\n",
    "soup = BeautifulSoup(r.text,'html.parser')"
   ]
  },
  {
   "cell_type": "code",
   "execution_count": 51,
   "id": "4c160669",
   "metadata": {},
   "outputs": [
    {
     "name": "stdout",
     "output_type": "stream",
     "text": [
      "Astropedia Search Results | USGS Astrogeology Science Center\n"
     ]
    }
   ],
   "source": [
    "print(soup.title.text)"
   ]
  },
  {
   "cell_type": "code",
   "execution_count": 66,
   "id": "2fd9b4bf",
   "metadata": {},
   "outputs": [
    {
     "name": "stdout",
     "output_type": "stream",
     "text": [
      "Valles Marineris Hemisphere Enhanced thumbnail\n"
     ]
    }
   ],
   "source": [
    "images = soup.find_all(\"img\", class_=\"thumb\")\n",
    "for image in images:\n",
    "    name=image['alt']\n",
    "    link=image['src']\n",
    "print(name)"
   ]
  },
  {
   "cell_type": "code",
   "execution_count": 67,
   "id": "f3b7b723",
   "metadata": {},
   "outputs": [],
   "source": [
    "#soup.find_all(\"img\", class_=\"collapsible resullts\")\n",
    "image_and_text=soup.find_all(\"img\", class_=\"thumb\")"
   ]
  },
  {
   "cell_type": "code",
   "execution_count": 70,
   "id": "b5699c3f",
   "metadata": {},
   "outputs": [
    {
     "name": "stdout",
     "output_type": "stream",
     "text": [
      "[<img alt=\"Cerberus Hemisphere Enhanced thumbnail\" class=\"thumb\" src=\"/cache/images/39d3266553462198bd2fbc4d18fbed17_cerberus_enhanced.tif_thumb.png\"/>, <img alt=\"Schiaparelli Hemisphere Enhanced thumbnail\" class=\"thumb\" src=\"/cache/images/08eac6e22c07fb1fe72223a79252de20_schiaparelli_enhanced.tif_thumb.png\"/>, <img alt=\"Syrtis Major Hemisphere Enhanced thumbnail\" class=\"thumb\" src=\"/cache/images/55a0a1e2796313fdeafb17c35925e8ac_syrtis_major_enhanced.tif_thumb.png\"/>, <img alt=\"Valles Marineris Hemisphere Enhanced thumbnail\" class=\"thumb\" src=\"/cache/images/4e59980c1c57f89c680c0e1ccabbeff1_valles_marineris_enhanced.tif_thumb.png\"/>]\n"
     ]
    }
   ],
   "source": [
    "print(image_and_text)"
   ]
  },
  {
   "cell_type": "code",
   "execution_count": 72,
   "id": "5ba67ff9",
   "metadata": {},
   "outputs": [
    {
     "name": "stdout",
     "output_type": "stream",
     "text": [
      "['alt']\n",
      "['alt']\n",
      "['alt']\n",
      "['alt']\n"
     ]
    }
   ],
   "source": [
    "for img in image_and_text:\n",
    "    name2=['alt']\n",
    "    src2=['src']\n",
    "    print(name2)"
   ]
  },
  {
   "cell_type": "code",
   "execution_count": 55,
   "id": "10d12ab5",
   "metadata": {},
   "outputs": [],
   "source": [
    "#Add links and iamages to list\n",
    "page_image = []\n",
    "page_image.append(name)\n",
    "page_image.append(link)"
   ]
  },
  {
   "cell_type": "code",
   "execution_count": 57,
   "id": "8b3eed46",
   "metadata": {},
   "outputs": [
    {
     "name": "stdout",
     "output_type": "stream",
     "text": [
      "/cache/images/4e59980c1c57f89c680c0e1ccabbeff1_valles_marineris_enhanced.tif_thumb.png\n"
     ]
    }
   ],
   "source": [
    "print(page_image[1])"
   ]
  },
  {
   "cell_type": "code",
   "execution_count": 34,
   "id": "572d53cf",
   "metadata": {},
   "outputs": [
    {
     "name": "stdout",
     "output_type": "stream",
     "text": [
      "/cache/images/4e59980c1c57f89c680c0e1ccabbeff1_valles_marineris_enhanced.tif_thumb.png\n"
     ]
    }
   ],
   "source": [
    "for image_src in page_image:\n",
    "    name1=image['src']\n",
    "print(name1)"
   ]
  },
  {
   "cell_type": "code",
   "execution_count": null,
   "id": "b10bb6d7",
   "metadata": {},
   "outputs": [],
   "source": [
    "hemisphere_url="
   ]
  }
 ],
 "metadata": {
  "kernelspec": {
   "display_name": "Python 3",
   "language": "python",
   "name": "python3"
  },
  "language_info": {
   "codemirror_mode": {
    "name": "ipython",
    "version": 3
   },
   "file_extension": ".py",
   "mimetype": "text/x-python",
   "name": "python",
   "nbconvert_exporter": "python",
   "pygments_lexer": "ipython3",
   "version": "3.8.8"
  }
 },
 "nbformat": 4,
 "nbformat_minor": 5
}
